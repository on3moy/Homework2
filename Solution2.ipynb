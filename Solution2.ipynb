{
 "metadata": {
  "language_info": {
   "codemirror_mode": {
    "name": "ipython",
    "version": 3
   },
   "file_extension": ".py",
   "mimetype": "text/x-python",
   "name": "python",
   "nbconvert_exporter": "python",
   "pygments_lexer": "ipython3",
   "version": "3.8.5-final"
  },
  "orig_nbformat": 2,
  "kernelspec": {
   "name": "python_defaultSpec_1599885115321",
   "display_name": "Python 3.8.5 64-bit"
  }
 },
 "nbformat": 4,
 "nbformat_minor": 2,
 "cells": [
  {
   "source": [
    "# Solutions"
   ],
   "cell_type": "markdown",
   "metadata": {}
  },
  {
   "source": [
    "## Solution 1"
   ],
   "cell_type": "markdown",
   "metadata": {}
  },
  {
   "cell_type": "code",
   "execution_count": 45,
   "metadata": {
    "tags": []
   },
   "outputs": [
    {
     "output_type": "stream",
     "name": "stdout",
     "text": "Number              Square                Cube\n                   0                   0                   0\n                   1                   1                   1\n                   2                   4                   8\n                   3                   9                  27\n                   4                  16                  64\n                   5                  25                 125\n"
    }
   ],
   "source": [
    "# Question 1)\tWrite code that compute the squares and cubes for numbers from 0 to 5. Display the output as the following: each cell occupies 20 spaces and right-aligned.\n",
    "\n",
    "'''\n",
    "Number\tSquare\tCube\n",
    "0\t0\t0\n",
    "1\t1\t1\n",
    "2\t4\t8\n",
    "3\t9\t27\n",
    "4\t16\t64\n",
    "5\t25\t125\n",
    "'''\n",
    "\n",
    "# 20 spaces each, right aligned\n",
    "print('{:>20}{:>20}{:>20}'.format('Number','Square','Cube'))\n",
    "print('{:>20}{:>20}{:>20}'.format(0,0**2,0**3))\n",
    "print('{:>20}{:>20}{:>20}'.format(1,1**2,1**3))\n",
    "print('{:>20}{:>20}{:>20}'.format(2,2**2,2**3))\n",
    "print('{:>20}{:>20}{:>20}'.format(3,3**2,3**3))\n",
    "print('{:>20}{:>20}{:>20}'.format(4,4**2,4**3))\n",
    "print('{:>20}{:>20}{:>20}'.format(5,5**2,5**3))"
   ]
  },
  {
   "source": [
    "## Solution 2"
   ],
   "cell_type": "markdown",
   "metadata": {}
  },
  {
   "cell_type": "code",
   "execution_count": 46,
   "metadata": {
    "tags": []
   },
   "outputs": [
    {
     "output_type": "stream",
     "name": "stdout",
     "text": "Celsious -40 = -40.0 F\nCelsious 0 = 32.0 F\nCelsious 40 = 104.0 F\nCelsious 100 = 1832.0 F\n"
    }
   ],
   "source": [
    "# 2) The formula to covert a Celsius temperature to a Fahrenheit temperature is\n",
    "\n",
    "'''\n",
    "F = 9 / 5 * C  + 32\n",
    "Write code that use this formula to calculate and print the Fahrenheit temperature for Celsius value of -40, 0, 40 and 100.\n",
    "'''\n",
    "\n",
    "print('Celsious -40 =',9/5 * -40 + 32,'F')\n",
    "print('Celsious 0 =',9/5 * 0 + 32,'F')\n",
    "print('Celsious 40 =',9/5 * 40 + 32,'F')\n",
    "print('Celsious 100 =',9/5 * 1000 + 32,'F')\n",
    "\n"
   ]
  },
  {
   "source": [
    "## Solution 3"
   ],
   "cell_type": "markdown",
   "metadata": {}
  },
  {
   "cell_type": "code",
   "execution_count": 54,
   "metadata": {
    "tags": []
   },
   "outputs": [
    {
     "output_type": "stream",
     "name": "stdout",
     "text": "The sum is 60\nThe average is 20.0\n"
    }
   ],
   "source": [
    "# 3) Write a script that input three integers from the user. Then print the sum and average of the numbers. The sum should use comma (,) separator. The average uses comma separate and has two decimal places. Each result is in a different line. If the input is 1000, 2000, 4000. The outputs are\n",
    "'''\n",
    "The sum is 7,000\n",
    "The average is 2,333.33 \n",
    "'''\n",
    "\n",
    "integer1 = int(input('Type First Integer Please: '))\n",
    "integer2 = int(input('Type Second Integer Please: '))\n",
    "integer3 = int(input('Type Third Integer Please: '))\n",
    "\n",
    "print('The sum is', integer1 + integer2 + integer3)\n",
    "print('The average is',(integer1 + integer2 + integer3)/3)\n"
   ]
  },
  {
   "cell_type": "code",
   "execution_count": null,
   "metadata": {},
   "outputs": [],
   "source": []
  }
 ]
}